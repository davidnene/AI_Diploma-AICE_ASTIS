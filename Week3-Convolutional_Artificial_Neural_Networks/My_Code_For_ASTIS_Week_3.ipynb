{
  "nbformat": 4,
  "nbformat_minor": 0,
  "metadata": {
    "colab": {
      "name": "My-Code_For-ASTIS-Week-3",
      "provenance": [],
      "collapsed_sections": [],
      "toc_visible": true
    },
    "kernelspec": {
      "name": "python3",
      "display_name": "Python 3"
    },
    "language_info": {
      "name": "python"
    }
  },
  "cells": [
    {
      "cell_type": "markdown",
      "source": [
        "#Convolution Neural Network Model"
      ],
      "metadata": {
        "id": "eIxgjf2G8tm4"
      }
    },
    {
      "cell_type": "markdown",
      "source": [
        "This project aims to buiid a neural network classification model tha predits images of clothing.\n",
        "\n",
        "We will use Keras API to build and train the model in Tensorflow."
      ],
      "metadata": {
        "id": "aZHWSQos6XPX"
      }
    },
    {
      "cell_type": "code",
      "source": [
        "#importing prerequisites\n",
        "\n",
        "#TensorFlow and tf.keras\n",
        "import tensorflow as tf\n",
        "\n",
        "#Importing pandas for data manipulation\n",
        "import pandas as pd\n",
        "\n",
        "#Importing numpy for scientific computations\n",
        "import numpy as np\n",
        "\n",
        "#importing visualization libraries\n",
        "import matplotlib.pyplot as plt\n",
        "import seaborn as sns\n",
        "\n",
        "print('TensorFlow version:',tf.__version__)\n"
      ],
      "metadata": {
        "colab": {
          "base_uri": "https://localhost:8080/"
        },
        "id": "9XzBgQG4690A",
        "outputId": "4cea0975-7ade-406e-9b07-7a43c8c222ca"
      },
      "execution_count": 12,
      "outputs": [
        {
          "output_type": "stream",
          "name": "stdout",
          "text": [
            "TensorFlow version: 2.8.0\n"
          ]
        }
      ]
    },
    {
      "cell_type": "markdown",
      "source": [
        "##Importing Data\n",
        "\n",
        "We shall use the Fashion MNIST dataset that contains 70,000 greycale images in 10 categries."
      ],
      "metadata": {
        "id": "eK7oUbkI870c"
      }
    },
    {
      "cell_type": "code",
      "source": [
        "fashion_mnist = tf.keras.datasets.fashion_mnist\n",
        "\n",
        "(train_images, train_labels), (test_images, test_labels) = fashion_mnist.load_data()"
      ],
      "metadata": {
        "id": "nINW7O2m847X"
      },
      "execution_count": 7,
      "outputs": []
    },
    {
      "cell_type": "markdown",
      "source": [
        "Loading the dataset returns four Numpy arrays\n",
        "\n",
        "* The `train_images` and `train_labels` arrays are the *training set*-the data the model uses to learn.\n",
        "* The model is tested against the *test set*, the `test_images`, and 'test_labels' arrays.\n",
        "\n",
        "The images are 28x28 NumPy arrays, with the pixel values ranging from 0 to 255. The *labels* are an array of integers, ranging from 0 to 9. These correspond to the class *class* of clothing the image represents:\n",
        "\n",
        "<table>\n",
        "  <tr>\n",
        "    <th>Label</th>\n",
        "    <th>Class</th>\n",
        "  </tr>\n",
        "  <tr>\n",
        "    <td>0</td>\n",
        "    <td>T-shirt/top</td>\n",
        "  </tr>\n",
        "  <tr>\n",
        "    <td>1</td>\n",
        "    <td>Trouser</td>\n",
        "  </tr>\n",
        "  <tr>\n",
        "    <td>2</td>\n",
        "    <td>Pullover</td>\n",
        "  </tr>\n",
        "  <tr>\n",
        "    <td>3</td>\n",
        "    <td>Dress</td>\n",
        "  </tr>\n",
        "  <tr>\n",
        "    <td>4</td>\n",
        "    <td>Coat</td>\n",
        "  </tr>\n",
        "  <tr>\n",
        "    <td>5</td>\n",
        "    <td>Sandal</td>\n",
        "  </tr>\n",
        "  <tr>\n",
        "    <td>6</td>\n",
        "    <td>Shirt</td>\n",
        "  </tr>\n",
        "  <tr>\n",
        "    <td>7</td>\n",
        "    <td>Sneaker</td>\n",
        "  </tr>\n",
        "  <tr>\n",
        "    <td>8</td>\n",
        "    <td>Bag</td>\n",
        "  </tr>\n",
        "  <tr>\n",
        "    <td>9</td>\n",
        "    <td>Ankle boot</td>\n",
        "  </tr>\n",
        "</table>\n",
        "\n",
        "Each image is mapped to a single label. Since the *class names* are not included with the dataset, store them here to use later when plotting the images:\n"
      ],
      "metadata": {
        "id": "iBSgHOjt-iSW"
      }
    },
    {
      "cell_type": "code",
      "source": [
        "class_names = ['T-shirt/top', 'Trouser', 'Pullover', 'Dress', 'Coat',\n",
        "               'Sandal', 'Shirt', 'Sneaker', 'Bag', 'Ankle boot']"
      ],
      "metadata": {
        "id": "Y2kg-wzcKdwJ"
      },
      "execution_count": 22,
      "outputs": []
    },
    {
      "cell_type": "markdown",
      "source": [
        "##Exploring the data"
      ],
      "metadata": {
        "id": "FV3IkTSOEO4o"
      }
    },
    {
      "cell_type": "code",
      "source": [
        "train_images.shape"
      ],
      "metadata": {
        "id": "-Mw_Rh7_96N5",
        "colab": {
          "base_uri": "https://localhost:8080/"
        },
        "outputId": "cfbd803e-5644-46b0-91bb-627517fd4305"
      },
      "execution_count": 8,
      "outputs": [
        {
          "output_type": "execute_result",
          "data": {
            "text/plain": [
              "(60000, 28, 28)"
            ]
          },
          "metadata": {},
          "execution_count": 8
        }
      ]
    },
    {
      "cell_type": "markdown",
      "source": [
        "There are 60,000 images in the training set, with each image represented as 28 x 28 pixels."
      ],
      "metadata": {
        "id": "VOgIRsjREk8p"
      }
    },
    {
      "cell_type": "code",
      "source": [
        "len(train_labels)"
      ],
      "metadata": {
        "colab": {
          "base_uri": "https://localhost:8080/"
        },
        "id": "-bvXw7f4E0Lg",
        "outputId": "e0e60d80-fab9-4185-9b6c-0437694f218d"
      },
      "execution_count": 9,
      "outputs": [
        {
          "output_type": "execute_result",
          "data": {
            "text/plain": [
              "60000"
            ]
          },
          "metadata": {},
          "execution_count": 9
        }
      ]
    },
    {
      "cell_type": "markdown",
      "source": [
        "There are 60,000 labels in the training set"
      ],
      "metadata": {
        "id": "NsfS2mUCE8ig"
      }
    },
    {
      "cell_type": "code",
      "source": [
        "test_images.shape"
      ],
      "metadata": {
        "colab": {
          "base_uri": "https://localhost:8080/"
        },
        "id": "eURfv64KE3Iq",
        "outputId": "60217b82-3bd2-49c0-8f10-4e71e089f196"
      },
      "execution_count": 13,
      "outputs": [
        {
          "output_type": "execute_result",
          "data": {
            "text/plain": [
              "(10000, 28, 28)"
            ]
          },
          "metadata": {},
          "execution_count": 13
        }
      ]
    },
    {
      "cell_type": "markdown",
      "source": [
        "There are 10000 images in the test set represented by 28 x 28 pixels."
      ],
      "metadata": {
        "id": "-zAasn_YF9eD"
      }
    },
    {
      "cell_type": "code",
      "source": [
        "len(test_labels)"
      ],
      "metadata": {
        "colab": {
          "base_uri": "https://localhost:8080/"
        },
        "id": "tAZY6wM8FNJg",
        "outputId": "a2e238b7-99ad-498c-b147-427edfb7c97a"
      },
      "execution_count": 14,
      "outputs": [
        {
          "output_type": "execute_result",
          "data": {
            "text/plain": [
              "10000"
            ]
          },
          "metadata": {},
          "execution_count": 14
        }
      ]
    },
    {
      "cell_type": "markdown",
      "source": [
        "The test set contains 10000 image labels"
      ],
      "metadata": {
        "id": "jUTM7rNlGSQ7"
      }
    },
    {
      "cell_type": "markdown",
      "source": [
        "##Data preprocessing"
      ],
      "metadata": {
        "id": "YAuoBcOZGhm6"
      }
    },
    {
      "cell_type": "markdown",
      "source": [
        "The images in the training set contains pixel values ranging from 0 to 255 as seen in a sample image below."
      ],
      "metadata": {
        "id": "GdXuuYh9GzaX"
      }
    },
    {
      "cell_type": "code",
      "source": [
        "plt.figure(figsize=(5,7))\n",
        "plt.imshow(train_images[5])\n",
        "plt.colorbar()\n",
        "plt.grid(False)\n",
        "plt.show()"
      ],
      "metadata": {
        "colab": {
          "base_uri": "https://localhost:8080/",
          "height": 417
        },
        "id": "sGZDbtAyGMfL",
        "outputId": "acc87fdf-6669-4f8d-f681-139a4e6bf124"
      },
      "execution_count": 17,
      "outputs": [
        {
          "output_type": "display_data",
          "data": {
            "text/plain": [
              "<Figure size 360x504 with 2 Axes>"
            ],
            "image/png": "[encoded data removed]"
          },
          "metadata": {
            "needs_background": "light"
          }
        }
      ]
    },
    {
      "cell_type": "code",
      "source": [
        "#Scale these values to a range of 0 to 1 before feeding them to the neural network model.\n",
        "#To do so, divide the values by 255.\n",
        "#It's important that the training set and the testing set be preprocessed in the same way.\n",
        "\n",
        "train_images = train_images / 255.0\n",
        "test_images = test_images / 255.0\n",
        "\n"
      ],
      "metadata": {
        "id": "3m2rvKg3GLrB"
      },
      "execution_count": 18,
      "outputs": []
    },
    {
      "cell_type": "markdown",
      "source": [
        "Let's verify the data is in the correct format by displaying the first 20 images from the training set and display the class name below each image"
      ],
      "metadata": {
        "id": "wr-Pg9MvJHeA"
      }
    },
    {
      "cell_type": "code",
      "source": [
        "plt.figure(figsize=(10,10))\n",
        "for i in range(20):\n",
        "  plt.subplot(4,5,i+1)\n",
        "  plt.xticks([])\n",
        "  plt.yticks([])\n",
        "  plt.grid(False)\n",
        "  plt.imshow(train_images[i], cmap=plt.cm.binary)\n",
        "  plt.xlabel(class_names[train_labels[i]]) #we had defined class_names earlier ( a list of label names)\n",
        "plt.show()"
      ],
      "metadata": {
        "colab": {
          "base_uri": "https://localhost:8080/",
          "height": 567
        },
        "id": "m5JtVAcUJXfC",
        "outputId": "eb4d1581-72de-468c-cdc0-9382254414e7"
      },
      "execution_count": 23,
      "outputs": [
        {
          "output_type": "display_data",
          "data": {
            "text/plain": [
              "<Figure size 720x720 with 20 Axes>"
            ],
            "image/png": "[encoded data removed]"
          },
          "metadata": {}
        }
      ]
    },
    {
      "cell_type": "markdown",
      "source": [
        "##Building the model\n",
        "\n",
        "We will need to configure the layers and then compile the model"
      ],
      "metadata": {
        "id": "VJmQUSwjLAPL"
      }
    },
    {
      "cell_type": "markdown",
      "source": [
        "###Setting up layers"
      ],
      "metadata": {
        "id": "qtC95498LFCr"
      }
    },
    {
      "cell_type": "code",
      "source": [
        "model = tf.keras.Sequential([\n",
        "                             tf.keras.layers.Flatten(input_shape=(28, 28)),\n",
        "                             tf.keras.layers.Dense(128, activation = 'relu'),\n",
        "                             tf.keras.layers.Dense(10)\n",
        "])"
      ],
      "metadata": {
        "id": "HPhfZ5l3K_5E"
      },
      "execution_count": 24,
      "outputs": []
    },
    {
      "cell_type": "markdown",
      "source": [
        "###Compiling the model"
      ],
      "metadata": {
        "id": "DWCdvJ0fM0uf"
      }
    },
    {
      "cell_type": "code",
      "source": [
        "model.compile(optimizer='adam' ,\n",
        "              loss = tf.keras.losses.SparseCategoricalCrossentropy(from_logits = True),\n",
        "              metrics = ['accuracy'])"
      ],
      "metadata": {
        "id": "9fhFnbZFKBuP"
      },
      "execution_count": 25,
      "outputs": []
    },
    {
      "cell_type": "markdown",
      "source": [
        "##Training the model"
      ],
      "metadata": {
        "id": "WMkq7T4-Nwkn"
      }
    },
    {
      "cell_type": "markdown",
      "source": [
        "###Fitting the model"
      ],
      "metadata": {
        "id": "VZg84ZF3N19A"
      }
    },
    {
      "cell_type": "code",
      "source": [
        "model.fit(train_images, train_labels, epochs = 10)"
      ],
      "metadata": {
        "colab": {
          "base_uri": "https://localhost:8080/"
        },
        "id": "BzMaqnwJN8co",
        "outputId": "be5b3e59-4ac2-43d4-d768-4dd3ad58cc6d"
      },
      "execution_count": 26,
      "outputs": [
        {
          "output_type": "stream",
          "name": "stdout",
          "text": [
            "Epoch 1/10\n",
            "1875/1875 [==============================] - 4s 2ms/step - loss: 0.4962 - accuracy: 0.8261\n",
            "Epoch 2/10\n",
            "1875/1875 [==============================] - 3s 2ms/step - loss: 0.3724 - accuracy: 0.8663\n",
            "Epoch 3/10\n",
            "1875/1875 [==============================] - 3s 2ms/step - loss: 0.3332 - accuracy: 0.8776\n",
            "Epoch 4/10\n",
            "1875/1875 [==============================] - 3s 2ms/step - loss: 0.3099 - accuracy: 0.8862\n",
            "Epoch 5/10\n",
            "1875/1875 [==============================] - 3s 2ms/step - loss: 0.2946 - accuracy: 0.8919\n",
            "Epoch 6/10\n",
            "1875/1875 [==============================] - 3s 2ms/step - loss: 0.2790 - accuracy: 0.8973\n",
            "Epoch 7/10\n",
            "1875/1875 [==============================] - 3s 2ms/step - loss: 0.2671 - accuracy: 0.9010\n",
            "Epoch 8/10\n",
            "1875/1875 [==============================] - 3s 2ms/step - loss: 0.2561 - accuracy: 0.9048\n",
            "Epoch 9/10\n",
            "1875/1875 [==============================] - 3s 2ms/step - loss: 0.2486 - accuracy: 0.9068\n",
            "Epoch 10/10\n",
            "1875/1875 [==============================] - 3s 2ms/step - loss: 0.2394 - accuracy: 0.9112\n"
          ]
        },
        {
          "output_type": "execute_result",
          "data": {
            "text/plain": [
              "<keras.callbacks.History at 0x7fd49a8ec290>"
            ]
          },
          "metadata": {},
          "execution_count": 26
        }
      ]
    },
    {
      "cell_type": "markdown",
      "source": [
        "The model has an accuracy of 91%(0.9112) on the training set as seen in the last epoch (10/10)"
      ],
      "metadata": {
        "id": "fMkxlg3GOSr7"
      }
    },
    {
      "cell_type": "markdown",
      "source": [
        "###Testing and evaluating the model"
      ],
      "metadata": {
        "id": "BofmvUJUOnUn"
      }
    },
    {
      "cell_type": "code",
      "source": [
        "test_loss, test_acc = model.evaluate(test_images, test_labels, verbose = 2)\n",
        "\n",
        "print('\\nTest accuracy:', test_acc)"
      ],
      "metadata": {
        "colab": {
          "base_uri": "https://localhost:8080/"
        },
        "id": "Elq7Ys3sPOyv",
        "outputId": "8c644b8f-b196-4134-e7df-59659047016d"
      },
      "execution_count": 29,
      "outputs": [
        {
          "output_type": "stream",
          "name": "stdout",
          "text": [
            "313/313 - 0s - loss: 0.3374 - accuracy: 0.8810 - 289ms/epoch - 924us/step\n",
            "\n",
            "Test accuracy: 0.8809999823570251\n"
          ]
        }
      ]
    },
    {
      "cell_type": "markdown",
      "source": [
        "The model has an accuracy of 88% on test. This is a bit lower as compared to training accuracy. It moslty happens due to overfitting."
      ],
      "metadata": {
        "id": "pKKqco41PgWl"
      }
    },
    {
      "cell_type": "markdown",
      "source": [
        "###Making predictions"
      ],
      "metadata": {
        "id": "etBR2ciCP3qf"
      }
    },
    {
      "cell_type": "code",
      "source": [
        "#Let's make predicitons on some images\n",
        "#We shall attach a softmax layer to convert the models liner output -logits- to probabilities which is easier to interpret\n",
        "\n",
        "probability_model = tf.keras.Sequential([model,\n",
        "                                         tf.keras.layers.Softmax()])"
      ],
      "metadata": {
        "id": "a4MZd5hkPPsZ"
      },
      "execution_count": 30,
      "outputs": []
    },
    {
      "cell_type": "code",
      "source": [
        "#Performing predictions\n",
        "predictions = probability_model.predict(test_images)"
      ],
      "metadata": {
        "id": "3sZnF4P0Qskc"
      },
      "execution_count": 31,
      "outputs": []
    },
    {
      "cell_type": "code",
      "source": [
        "#Let's take a look at the first prediction\n",
        "predictions[0]"
      ],
      "metadata": {
        "colab": {
          "base_uri": "https://localhost:8080/"
        },
        "id": "ytJtQbwVR0qA",
        "outputId": "849af936-4b3b-44a8-bd16-143e1e91d37f"
      },
      "execution_count": 38,
      "outputs": [
        {
          "output_type": "execute_result",
          "data": {
            "text/plain": [
              "array([6.1839410e-06, 8.0228983e-07, 9.1323791e-08, 4.4556775e-11,\n",
              "       3.3987548e-09, 4.4233091e-03, 3.6577156e-08, 2.0627115e-02,\n",
              "       2.2550515e-07, 9.7494227e-01], dtype=float32)"
            ]
          },
          "metadata": {},
          "execution_count": 38
        }
      ]
    },
    {
      "cell_type": "code",
      "source": [
        "#A prediction is an array of 10 numbers. \n",
        "#They represent the model's \"confidence\" that the image corresponds to each of the 10 different articles of clothing\n",
        "#represented by their indexes \n",
        "\n",
        "#You can see which label has the highest confidence value.\n",
        "np.argmax(predictions[0])"
      ],
      "metadata": {
        "colab": {
          "base_uri": "https://localhost:8080/"
        },
        "id": "BwwoaLQ2Q98V",
        "outputId": "5bd13ce2-4980-4576-b5d7-1cf574f8d5fa"
      },
      "execution_count": 37,
      "outputs": [
        {
          "output_type": "execute_result",
          "data": {
            "text/plain": [
              "9"
            ]
          },
          "metadata": {},
          "execution_count": 37
        }
      ]
    },
    {
      "cell_type": "markdown",
      "source": [
        "The model is confident that the image is an ankle boot ( `class_names[9]` )"
      ],
      "metadata": {
        "id": "GwEVlfdqSQxJ"
      }
    },
    {
      "cell_type": "code",
      "source": [
        "#Let's confirm with the first element in the test labels\n",
        "\n",
        "test_labels[0]"
      ],
      "metadata": {
        "colab": {
          "base_uri": "https://localhost:8080/"
        },
        "id": "mZ8D8J4nRF95",
        "outputId": "a2dd5f17-1c56-41c6-8c0e-cb6c49835c7f"
      },
      "execution_count": 39,
      "outputs": [
        {
          "output_type": "execute_result",
          "data": {
            "text/plain": [
              "9"
            ]
          },
          "metadata": {},
          "execution_count": 39
        }
      ]
    },
    {
      "cell_type": "markdown",
      "source": [
        "Let's visualize the full set of 10 class predictions"
      ],
      "metadata": {
        "id": "hytykSumTRS_"
      }
    },
    {
      "cell_type": "code",
      "source": [
        "def plot_image(i, predictions_array, true_label, img):\n",
        "  true_label, img = true_label[i], img[i]\n",
        "  plt.grid(False)\n",
        "  plt.xticks([])\n",
        "  plt.yticks([])\n",
        "\n",
        "  plt.imshow(img, cmap = plt.cm.binary)\n",
        "\n",
        "  predicted_label = np.argmax(predictions_array)\n",
        "  if predicted_label == true_label:\n",
        "    color = 'green'\n",
        "  else:\n",
        "    color = 'red'\n",
        "  \n",
        "  plt.xlabel(\"{} {:2.0f}% ({})\".format(class_names[predicted_label],\n",
        "                                       100*np.max(predictions_array),\n",
        "                                       class_names[true_label]),\n",
        "             color = color)\n",
        "  \n",
        "def plot_value_array(i, predictions_array, true_label):\n",
        "    true_label = true_label[i]\n",
        "    plt.grid(False)\n",
        "    plt.xticks(range(10))\n",
        "    plt.yticks([])\n",
        "    thisplot = plt.bar(range(10), predictions_array, color = \"#777777\")\n",
        "    plt.ylim([0, 1])\n",
        "    predicted_label = np.argmax(predictions_array)\n",
        "\n",
        "    thisplot[predicted_label].set_color('red')\n",
        "    thisplot[true_label].set_color('green')"
      ],
      "metadata": {
        "id": "YpCI7qT6TcBN"
      },
      "execution_count": 54,
      "outputs": []
    },
    {
      "cell_type": "code",
      "source": [
        "#Let's look at the 0th image, predictions, and prediction array. \n",
        "#Correct prediction labels are blue and incorrect prediction labels are red. \n",
        "#The number gives the percentage (out of 100) for the predicted label.\n",
        "\n",
        "i = 0\n",
        "plt.figure(figsize = (6, 3))\n",
        "plt.subplot(1, 2, 1)\n",
        "plot_image(i, predictions[i], test_labels, test_images)\n",
        "plt.subplot(1, 2, 2)\n",
        "plot_value_array(i, predictions[i], test_labels)\n",
        "plt.show()"
      ],
      "metadata": {
        "colab": {
          "base_uri": "https://localhost:8080/",
          "height": 211
        },
        "id": "WIi2KL5bWS5d",
        "outputId": "b3ff5d88-17ef-4635-839e-08751c65d272"
      },
      "execution_count": 49,
      "outputs": [
        {
          "output_type": "display_data",
          "data": {
            "text/plain": [
              "<Figure size 432x216 with 2 Axes>"
            ],
            "image/png": "[encoded data removed]"
          },
          "metadata": {
            "needs_background": "light"
          }
        }
      ]
    },
    {
      "cell_type": "code",
      "source": [
        "i = 20\n",
        "plt.figure(figsize=(6,3))\n",
        "plt.subplot(1,2,1)\n",
        "plot_image(i, predictions[i], test_labels, test_images)\n",
        "plt.subplot(1,2,2)\n",
        "plot_value_array(i, predictions[i],  test_labels)\n",
        "plt.show()"
      ],
      "metadata": {
        "colab": {
          "base_uri": "https://localhost:8080/",
          "height": 211
        },
        "id": "JqybNaZVZuZk",
        "outputId": "8f3ce18d-96fc-4ff5-d385-57110fdd755f"
      },
      "execution_count": 56,
      "outputs": [
        {
          "output_type": "display_data",
          "data": {
            "text/plain": [
              "<Figure size 432x216 with 2 Axes>"
            ],
            "image/png": "[encoded data removed]"
          },
          "metadata": {
            "needs_background": "light"
          }
        }
      ]
    },
    {
      "cell_type": "markdown",
      "source": [
        "##Using the trained model"
      ],
      "metadata": {
        "id": "JYCt6pcGaiNn"
      }
    },
    {
      "cell_type": "code",
      "source": [
        "#Let's use the trained model to make a prediction on a single image\n",
        "#grab an image from the test dataset\n",
        "\n",
        "img = test_images[3]\n",
        "\n",
        "print(img.shape)"
      ],
      "metadata": {
        "colab": {
          "base_uri": "https://localhost:8080/"
        },
        "id": "gQsUDcguaKBu",
        "outputId": "28bbe9c4-d1eb-49dd-a56d-2fa7c54a6189"
      },
      "execution_count": 63,
      "outputs": [
        {
          "output_type": "stream",
          "name": "stdout",
          "text": [
            "(28, 28)\n"
          ]
        }
      ]
    },
    {
      "cell_type": "code",
      "source": [
        "#Visualizing the image\n",
        "\n",
        "plt.figure(figsize=(5,7))\n",
        "plt.imshow(img)\n",
        "plt.colorbar()\n",
        "plt.grid(False)\n",
        "plt.show()"
      ],
      "metadata": {
        "colab": {
          "base_uri": "https://localhost:8080/",
          "height": 421
        },
        "id": "Z7suhdqBb6pe",
        "outputId": "a906dfb2-1da9-45bd-b2ee-ad6d87e876ae"
      },
      "execution_count": 64,
      "outputs": [
        {
          "output_type": "display_data",
          "data": {
            "text/plain": [
              "<Figure size 360x504 with 2 Axes>"
            ],
            "image/png": "[encoded data removed]"
          },
          "metadata": {
            "needs_background": "light"
          }
        }
      ]
    },
    {
      "cell_type": "code",
      "source": [
        "#Keras can only make preditions to a batch or a collection at once.\n",
        "#We'll need to add our image to a list where its the only element\n",
        "\n",
        "img = (np.expand_dims(img, 0))\n",
        "\n",
        "print(img.shape)"
      ],
      "metadata": {
        "colab": {
          "base_uri": "https://localhost:8080/"
        },
        "id": "5Z3ohyu1bCUO",
        "outputId": "c28193b6-e569-45db-f4cb-315153b97776"
      },
      "execution_count": 65,
      "outputs": [
        {
          "output_type": "stream",
          "name": "stdout",
          "text": [
            "(1, 28, 28)\n"
          ]
        }
      ]
    },
    {
      "cell_type": "markdown",
      "source": [
        "Let's now use the model to predict the image"
      ],
      "metadata": {
        "id": "xf9xqX1xcaOr"
      }
    },
    {
      "cell_type": "code",
      "source": [
        "single_prediction = probability_model.predict(img)\n",
        "print(single_prediction)"
      ],
      "metadata": {
        "colab": {
          "base_uri": "https://localhost:8080/"
        },
        "id": "XyJSqp7tcgV3",
        "outputId": "af0f56d4-a6bb-4adb-e8f5-1890a42d6977"
      },
      "execution_count": 66,
      "outputs": [
        {
          "output_type": "stream",
          "name": "stdout",
          "text": [
            "[[3.9076690e-07 9.9999905e-01 1.8166161e-09 6.3635065e-07 1.6582997e-09\n",
            "  4.9945526e-15 3.0565268e-09 7.0552361e-20 1.5520419e-13 2.1259660e-14]]\n"
          ]
        }
      ]
    },
    {
      "cell_type": "code",
      "source": [
        "plot_value_array(1, single_prediction[0], test_labels)\n",
        "_ = plt.xticks(range(10), class_names, rotation = 45)\n",
        "plt.show()"
      ],
      "metadata": {
        "colab": {
          "base_uri": "https://localhost:8080/",
          "height": 300
        },
        "id": "m-5O9FEmc-rG",
        "outputId": "f6325793-ba98-4d4e-8d41-c8ec4fba3498"
      },
      "execution_count": 67,
      "outputs": [
        {
          "output_type": "display_data",
          "data": {
            "text/plain": [
              "<Figure size 432x288 with 1 Axes>"
            ],
            "image/png": "[encoded data removed]"
          },
          "metadata": {
            "needs_background": "light"
          }
        }
      ]
    },
    {
      "cell_type": "code",
      "source": [
        "np.argmax(single_prediction[0])"
      ],
      "metadata": {
        "colab": {
          "base_uri": "https://localhost:8080/"
        },
        "id": "LXrtaPK5dieR",
        "outputId": "6a2245f7-cee0-4aa3-e048-1f860a112d3d"
      },
      "execution_count": 69,
      "outputs": [
        {
          "output_type": "execute_result",
          "data": {
            "text/plain": [
              "1"
            ]
          },
          "metadata": {},
          "execution_count": 69
        }
      ]
    },
    {
      "cell_type": "markdown",
      "source": [
        "The model predicted the image is a *Trouser* as expected (`class_names[1]`)"
      ],
      "metadata": {
        "id": "-eydzwJyeYzF"
      }
    }
  ]
}